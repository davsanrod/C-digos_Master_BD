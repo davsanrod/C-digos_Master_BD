{
 "cells": [
  {
   "cell_type": "markdown",
   "metadata": {
    "slideshow": {
     "slide_type": "slide"
    }
   },
   "source": [
    "# Ecuaciones\n",
    "\n",
    "Vamos a crear una pequeña simulación de la evolución de una población de conejos y zorros haciéndo uso de un modelo matemático simple:\n",
    "\n",
    "    dR/dt = k1 * R - k2 * R * F  <- Es la variación instantanea en el número de conejos R\n",
    "    dF/dt = k4 * R * F - k3 * F  <- Es la variación instantanea en el número de zorros F\n",
    "   "
   ]
  },
  {
   "cell_type": "code",
   "execution_count": 1,
   "metadata": {
    "slideshow": {
     "slide_type": "fragment"
    }
   },
   "outputs": [],
   "source": [
    "k1 = 1          # Tasa de natalidad de los zorros\n",
    "k2 = 0.01       # Capacidad de los zorros para cazar conejos\n",
    "k3 = 0.5        # Mortalidad propia de los zorros\n",
    "k4 = 0.05       # Tasa de natalidad de los zorros\n",
    "delta_t = 0.001 # Incremento del tiempo que usaremos en nuestra simulación"
   ]
  },
  {
   "cell_type": "code",
   "execution_count": 2,
   "metadata": {
    "slideshow": {
     "slide_type": "slide"
    }
   },
   "outputs": [],
   "source": [
    "# Escribe una función que toma el número de conejos y zorros actual y devuelve el incremento de conejos instantáneo\n",
    "# es decir dR/dt\n",
    "def delta_conejos(conejos, zorros):\n",
    "    return k1 * conejos - k2 *conejos * zorros"
   ]
  },
  {
   "cell_type": "code",
   "execution_count": 3,
   "metadata": {
    "slideshow": {
     "slide_type": "slide"
    }
   },
   "outputs": [],
   "source": [
    "# Escribe una función que toma el número de conejos y zorros actual y devuelve el incremento de zorros instantáneo\n",
    "# es decir dF/dt\n",
    "def delta_zorros(conejos, zorros):\n",
    "    return k4 * conejos * zorros - k3 * zorros "
   ]
  },
  {
   "cell_type": "code",
   "execution_count": 4,
   "metadata": {
    "slideshow": {
     "slide_type": "slide"
    }
   },
   "outputs": [],
   "source": [
    "# Escribe una función que toma el número de conejos y zorros actual y devulve una tupla con los valores \n",
    "# de dR/dt y dF/dt\n",
    "def delta_poblacion(conejos, zorros):\n",
    "    num_conejos = delta_conejos(conejos, zorros)\n",
    "    num_zorros = delta_zorros(conejos, zorros)\n",
    "    return num_conejos, num_zorros"
   ]
  },
  {
   "cell_type": "code",
   "execution_count": 6,
   "metadata": {
    "slideshow": {
     "slide_type": "slide"
    }
   },
   "outputs": [
    {
     "data": {
      "text/plain": [
       "(85.0, 67.5)"
      ]
     },
     "execution_count": 6,
     "metadata": {},
     "output_type": "execute_result"
    }
   ],
   "source": [
    "# Prueba la función delta_población invocandola para 1000 conejos y 10 zorros\n",
    "delta_poblacion(100, 15)"
   ]
  },
  {
   "cell_type": "code",
   "execution_count": 7,
   "metadata": {
    "slideshow": {
     "slide_type": "slide"
    }
   },
   "outputs": [],
   "source": [
    "# Fijemos estos valores en unas variables globales\n",
    "CONEJOS_INICIALES = 1000\n",
    "ZORROS_INICIALES = 10"
   ]
  },
  {
   "cell_type": "code",
   "execution_count": 8,
   "metadata": {
    "slideshow": {
     "slide_type": "fragment"
    }
   },
   "outputs": [
    {
     "name": "stdout",
     "output_type": "stream",
     "text": [
      "conejos[900.0] zorros[495.0]\n"
     ]
    }
   ],
   "source": [
    "# Calcula de nuevo el número de conejos y zorros pero usando como valores las variables globales que hemos \n",
    "# definido.\n",
    "conejos, zorros = delta_poblacion(CONEJOS_INICIALES, ZORROS_INICIALES)\n",
    "print(\"conejos[{}] zorros[{}]\".format(conejos, zorros))"
   ]
  },
  {
   "cell_type": "code",
   "execution_count": 9,
   "metadata": {
    "slideshow": {
     "slide_type": "slide"
    }
   },
   "outputs": [],
   "source": [
    "# Escribe una función que dado el número de conejos y de zorros inicial y un número de peridos nos \n",
    "# devuelva una lista con el resultado de avanzar la población ese número de periodos:\n",
    "#\n",
    "# simular(CONEJOS_INICIALES, ZORROS_INICIALES, 10) devolverá algo del estilo de:\n",
    "#\n",
    "#   [(1000, 10), (980.254885, 11.2257), (970.5468, 12.2258)...] \n",
    "#\n",
    "# La lista contiene tantos elementos como periodos:\n",
    "#\n",
    "def simular(conejos, zorros, periodos):\n",
    "    poblacion = [(conejos, zorros)]\n",
    "    conejos_anteriores = conejos\n",
    "    zorros_anteriores = zorros\n",
    "    \n",
    "    #Bucle \n",
    "    for n in range(1, periodos):\n",
    "        \n",
    "        #Calculo poblacion\n",
    "        dRdt, dFdt = delta_poblacion(conejos_anteriores, zorros_anteriores)\n",
    "    \n",
    "        #Nuevos valores\n",
    "        conejos_nuevos = conejos_anteriores * dRdt * delta_t\n",
    "        zorros_nuevos = zorros_anteriores * dFdt * delta_t\n",
    "        \n",
    "        #Añadir a la lista\n",
    "        poblacion.append((conejos_nuevos, zorros_nuevos))\n",
    "        \n",
    "        #Reemplazar valores a antiguos para el bucle\n",
    "        conejos_anteriores = conejos_nuevos\n",
    "        zorros_anteriores = zorros_nuevos\n",
    "    return poblacion"
   ]
  },
  {
   "cell_type": "code",
   "execution_count": 10,
   "metadata": {},
   "outputs": [
    {
     "data": {
      "text/plain": [
       "[(100, 10),\n",
       " (9.0, 0.45),\n",
       " (0.08063550000000001, -1.0124999999999997e-05),\n",
       " (6.502084518585993e-06, -5.0844492566015594e-14),\n",
       " (4.227710308683567e-14, -1.2925803717005787e-30),\n",
       " (1.7873534454149302e-30, -8.353820086527996e-64),\n",
       " (3.194632338836622e-63, -3.489315501903931e-130),\n",
       " (1.0205675780340748e-128, -6.0876613359135404e-263),\n",
       " (1.0415581813343375e-259, -0.0),\n",
       " (0.0, -0.0)]"
      ]
     },
     "execution_count": 10,
     "metadata": {},
     "output_type": "execute_result"
    }
   ],
   "source": [
    "#Prueba\n",
    "simular(100, 10, 10)"
   ]
  },
  {
   "cell_type": "code",
   "execution_count": 11,
   "metadata": {
    "slideshow": {
     "slide_type": "slide"
    }
   },
   "outputs": [],
   "source": [
    "# Evaluemos 1.000.000 de periodos y guardemos el resultado en la variable global HISTORIA\n",
    "HISTORIA = simular(CONEJOS_INICIALES, ZORROS_INICIALES, 1000000)"
   ]
  },
  {
   "cell_type": "code",
   "execution_count": null,
   "metadata": {
    "slideshow": {
     "slide_type": "fragment"
    }
   },
   "outputs": [],
   "source": [
    "# Comprobemos el n´mero de elementos en HISTORIA\n",
    "len(HISTORIA)"
   ]
  },
  {
   "cell_type": "code",
   "execution_count": 12,
   "metadata": {
    "slideshow": {
     "slide_type": "fragment"
    }
   },
   "outputs": [
    {
     "data": {
      "text/plain": [
       "(0.0, -0.0)"
      ]
     },
     "execution_count": 12,
     "metadata": {},
     "output_type": "execute_result"
    }
   ],
   "source": [
    "# Comprobemos los valores de conejos y zorros en el perido 300\n",
    "HISTORIA[300]"
   ]
  },
  {
   "cell_type": "code",
   "execution_count": 15,
   "metadata": {
    "slideshow": {
     "slide_type": "skip"
    }
   },
   "outputs": [],
   "source": [
    "%matplotlib inline\n",
    "from matplotlib import pyplot as plt"
   ]
  },
  {
   "cell_type": "code",
   "execution_count": 13,
   "metadata": {
    "slideshow": {
     "slide_type": "slide"
    }
   },
   "outputs": [],
   "source": [
    "# Extraigamos la historia de los conejos y la de los zorros a las variables globales correspondientes\n",
    "HISTORIA_CONEJOS = list(map(lambda punto: punto[0], HISTORIA))\n",
    "HISTORIA_ZORROS = list(map(lambda punto: punto[1], HISTORIA))"
   ]
  },
  {
   "cell_type": "code",
   "execution_count": 16,
   "metadata": {
    "slideshow": {
     "slide_type": "fragment"
    }
   },
   "outputs": [
    {
     "data": {
      "text/plain": [
       "Text(0,0.5,'Num. Zorros')"
      ]
     },
     "execution_count": 16,
     "metadata": {},
     "output_type": "execute_result"
    },
    {
     "data": {
      "image/png": "[encoded data removed]",
      "text/plain": [
       "<Figure size 432x288 with 1 Axes>"
      ]
     },
     "metadata": {
      "needs_background": "light"
     },
     "output_type": "display_data"
    }
   ],
   "source": [
    "# Generemos una gráfica de dichos valores x = conejos, y = zorros\n",
    "plt.plot(HISTORIA_CONEJOS, HISTORIA_ZORROS)\n",
    "plt.title('Evolucion de la población de conejos vs zorros')\n",
    "plt.xlabel('Num. Conejos')\n",
    "plt.ylabel('Num. Zorros')"
   ]
  },
  {
   "cell_type": "code",
   "execution_count": null,
   "metadata": {
    "slideshow": {
     "slide_type": "fragment"
    }
   },
   "outputs": [],
   "source": [
    "# Generemos una gráfica de la evolución de los conejos\n",
    "pass"
   ]
  }
 ],
 "metadata": {
  "kernelspec": {
   "display_name": "Python 3",
   "language": "python",
   "name": "python3"
  },
  "language_info": {
   "codemirror_mode": {
    "name": "ipython",
    "version": 3
   },
   "file_extension": ".py",
   "mimetype": "text/x-python",
   "name": "python",
   "nbconvert_exporter": "python",
   "pygments_lexer": "ipython3",
   "version": "3.7.0"
  },
  "toc": {
   "base_numbering": 1,
   "nav_menu": {},
   "number_sections": false,
   "sideBar": false,
   "skip_h1_title": false,
   "title_cell": "Table of Contents",
   "title_sidebar": "Contents",
   "toc_cell": false,
   "toc_position": {},
   "toc_section_display": false,
   "toc_window_display": false
  }
 },
 "nbformat": 4,
 "nbformat_minor": 2
}
