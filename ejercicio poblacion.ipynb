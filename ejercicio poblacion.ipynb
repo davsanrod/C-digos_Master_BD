{
 "cells": [
  {
   "cell_type": "markdown",
   "metadata": {
    "slideshow": {
     "slide_type": "slide"
    }
   },
   "source": [
    "# Ecuaciones\n",
    "\n",
    "Vamos a crear una pequeña simulación de la evolución de una población de conejos y zorros haciéndo uso de un modelo matemático simple:\n",
    "\n",
    "    dR/dt = k1 * R - k2 * R * F  <- Es la variación instantanea en el número de conejos R\n",
    "    dF/dt = k4 * R * F - k3 * F  <- Es la variación instantanea en el número de zorros F\n",
    "   "
   ]
  },
  {
   "cell_type": "code",
   "execution_count": 8,
   "metadata": {
    "slideshow": {
     "slide_type": "fragment"
    }
   },
   "outputs": [],
   "source": [
    "k1 = 1          # Tasa de natalidad de los conejos\n",
    "k2 = 0.01       # Capacidad de los zorros para cazar conejos\n",
    "k3 = 0.5        # Mortalidad propia de los zorros\n",
    "k4 = 0.05       # Tasa de natalidad de los zorros\n",
    "delta_t = 0.001 # Incremento del tiempo que usaremos en nuestra simulación"
   ]
  },
  {
   "cell_type": "code",
   "execution_count": 9,
   "metadata": {
    "slideshow": {
     "slide_type": "slide"
    }
   },
   "outputs": [],
   "source": [
    "# Escribe una función que toma el número de conejos y zorros actual y devuelve el incremento de conejos instantáneo\n",
    "# es decir dR/dt\n",
    "def delta_conejos(conejos, zorros):\n",
    "    return ((k1 * conejos) - (k2 * conejos * zorros))"
   ]
  },
  {
   "cell_type": "code",
   "execution_count": 10,
   "metadata": {},
   "outputs": [
    {
     "name": "stdout",
     "output_type": "stream",
     "text": [
      "90.0\n"
     ]
    }
   ],
   "source": [
    "#Prueba para 100 conejos y 10 zorros:\n",
    "resultado = delta_conejos(100, 10)\n",
    "print(resultado)"
   ]
  },
  {
   "cell_type": "code",
   "execution_count": 12,
   "metadata": {
    "slideshow": {
     "slide_type": "slide"
    }
   },
   "outputs": [],
   "source": [
    "# Escribe una función que toma el número de conejos y zorros actual y devuelve el incremento de zorros instantáneo\n",
    "# es decir dF/dt\n",
    "def delta_zorros(conejos, zorros):\n",
    "    return ((k4 * conejos * zorros)-(k3 * zorros))"
   ]
  },
  {
   "cell_type": "code",
   "execution_count": 13,
   "metadata": {},
   "outputs": [
    {
     "name": "stdout",
     "output_type": "stream",
     "text": [
      "45.0\n"
     ]
    }
   ],
   "source": [
    "#Prueba para 100 conejos y 10 zorros:\n",
    "resultado = delta_zorros(100, 10)\n",
    "print(resultado)"
   ]
  },
  {
   "cell_type": "code",
   "execution_count": 20,
   "metadata": {
    "slideshow": {
     "slide_type": "slide"
    }
   },
   "outputs": [],
   "source": [
    "# Escribe una función que toma el número de conejos y zorros actual y devulve una tupla con los valores \n",
    "# de dR/dt y dF/dt\n",
    "def delta_poblacion(conejos, zorros):\n",
    "    num_conejos = delta_conejos(conejos, zorros)\n",
    "    num_zorros = delta_zorros(conejos, zorros)\n",
    "    poblacion = (num_conejos, num_zorros)\n",
    "    return poblacion"
   ]
  },
  {
   "cell_type": "code",
   "execution_count": 23,
   "metadata": {
    "slideshow": {
     "slide_type": "slide"
    }
   },
   "outputs": [
    {
     "name": "stdout",
     "output_type": "stream",
     "text": [
      "(900.0, 495.0)\n"
     ]
    }
   ],
   "source": [
    "# Prueba la función delta_población invocandola para 1000 conejos y 10 zorros\n",
    "prueba_pob = delta_poblacion(1000, 10)\n",
    "print(prueba_pob)"
   ]
  },
  {
   "cell_type": "code",
   "execution_count": 24,
   "metadata": {
    "slideshow": {
     "slide_type": "slide"
    }
   },
   "outputs": [],
   "source": [
    "# Fijemos estos valores en unas variables globales\n",
    "CONEJOS_INICIALES = 1000\n",
    "ZORROS_INICIALES = 10"
   ]
  },
  {
   "cell_type": "code",
   "execution_count": 25,
   "metadata": {
    "slideshow": {
     "slide_type": "fragment"
    }
   },
   "outputs": [
    {
     "name": "stdout",
     "output_type": "stream",
     "text": [
      "conejos[900.0] zorros[495.0]\n"
     ]
    }
   ],
   "source": [
    "# Calcula de nuevo el número de conejos y zorros pero usando como valores las variables globales que hemos \n",
    "# definido.\n",
    "conejos, zorros = delta_poblacion(CONEJOS_INICIALES, ZORROS_INICIALES)\n",
    "print(\"conejos[{}] zorros[{}]\".format(conejos, zorros))"
   ]
  },
  {
   "cell_type": "code",
   "execution_count": 1,
   "metadata": {
    "slideshow": {
     "slide_type": "slide"
    }
   },
   "outputs": [],
   "source": [
    "# Escribe una función que dado el número de conejos y de zorros inicial y un número de peridos nos \n",
    "# devuelva una lista con el resultado de avanzar la población ese número de periodos:\n",
    "#\n",
    "# simular(CONEJOS_INICIALES, ZORROS_INICIALES, 10) devolverá algo del estilo de:\n",
    "#\n",
    "#   [(1000, 10), (980.254885, 11.2257), (970.5468, 12.2258)...] \n",
    "#\n",
    "# La lista contiene tantos elementos como periodos:\n",
    "#\n",
    "def simular(conejos, zorros, periodos):\n",
    "    \n",
    "    #Inicio de proceso y doy valores iniciales\n",
    "    lista_poblacion = [(conejos, zorros)]\n",
    "    conejos_anteriores = conejos\n",
    "    zorros_anteriores = zorros\n",
    "    \n",
    "    #Operacion por periodo\n",
    "    for periodo in range(1, periodos):\n",
    "        \n",
    "        #Cojo los incrementos\n",
    "        dRdt, dFdt = delta_poblacion(conejos_anteriores, zorros_anteriores)\n",
    "        \n",
    "        #Calculo los nuevos valores\n",
    "        conejos_nuevos = conejos_anteriores + dRdt *delta_t\n",
    "        zorros_nuevos = zorros_anteriores + dFdt * delta_t \n",
    "        \n",
    "        #Guardo los nuevos valores en lista (como tupla)\n",
    "        lista_poblacion.append((conejos_nuevos, zorros_nuevos))\n",
    "        \n",
    "        #Paso los valores calculados como nuevos valores anteriores\n",
    "        conejos_anteriores = conejos_nuevos\n",
    "        zorros_anteriores = zorros_nuevos\n",
    "        \n",
    "    return lista_poblacion"
   ]
  },
  {
   "cell_type": "code",
   "execution_count": 76,
   "metadata": {},
   "outputs": [
    {
     "data": {
      "text/plain": [
       "[(100, 10),\n",
       " (100.09, 10.045),\n",
       " (100.1800359595, 10.0902477025),\n",
       " (100.27010758168274, 10.135744647532585),\n",
       " (100.36021456720214, 10.181492385520245),\n",
       " (100.45035661416509, 10.227492477348743),\n",
       " (100.54053341811307, 10.273746494440987),\n",
       " (100.63074467200364, 10.320256018831445),\n",
       " (100.72099006619185, 10.367022643241066),\n",
       " (100.81126928841138, 10.414047971152739)]"
      ]
     },
     "execution_count": 76,
     "metadata": {},
     "output_type": "execute_result"
    }
   ],
   "source": [
    "#Prueba:\n",
    "simular(100, 10, 10)"
   ]
  },
  {
   "cell_type": "code",
   "execution_count": 77,
   "metadata": {
    "slideshow": {
     "slide_type": "slide"
    }
   },
   "outputs": [],
   "source": [
    "# Evaluemos 1.000.000 de periodos y guardemos el resultado en la variable global HISTORIA\n",
    "HISTORIA = simular(CONEJOS_INICIALES, ZORROS_INICIALES, 1000000)"
   ]
  },
  {
   "cell_type": "code",
   "execution_count": 78,
   "metadata": {
    "slideshow": {
     "slide_type": "fragment"
    }
   },
   "outputs": [
    {
     "data": {
      "text/plain": [
       "1000000"
      ]
     },
     "execution_count": 78,
     "metadata": {},
     "output_type": "execute_result"
    }
   ],
   "source": [
    "# Comprobemos el n´mero de elementos en HISTORIA\n",
    "len(HISTORIA)"
   ]
  },
  {
   "cell_type": "code",
   "execution_count": 79,
   "metadata": {
    "slideshow": {
     "slide_type": "fragment"
    }
   },
   "outputs": [
    {
     "data": {
      "text/plain": [
       "(0.07521673878293789, 5185.21217810658)"
      ]
     },
     "execution_count": 79,
     "metadata": {},
     "output_type": "execute_result"
    }
   ],
   "source": [
    "# Comprobemos los valores de conejos y zorros en el perido 300\n",
    "HISTORIA[300]"
   ]
  },
  {
   "cell_type": "code",
   "execution_count": 69,
   "metadata": {
    "slideshow": {
     "slide_type": "skip"
    }
   },
   "outputs": [],
   "source": [
    "from matplotlib import pyplot as plt"
   ]
  },
  {
   "cell_type": "code",
   "execution_count": 80,
   "metadata": {
    "slideshow": {
     "slide_type": "slide"
    }
   },
   "outputs": [],
   "source": [
    "# Extraigamos la historia de los conejos y la de los zorros a las variables globales correspondientes\n",
    "HISTORIA_CONEJOS = list(map(lambda punto: punto[0], HISTORIA))\n",
    "HISTORIA_ZORROS = list(map(lambda punto: punto[1], HISTORIA))"
   ]
  },
  {
   "cell_type": "code",
   "execution_count": 81,
   "metadata": {},
   "outputs": [
    {
     "name": "stdout",
     "output_type": "stream",
     "text": [
      "0.07521673878293789\n",
      "5185.21217810658\n"
     ]
    }
   ],
   "source": [
    "#Prueba:\n",
    "print(HISTORIA_CONEJOS[300])\n",
    "print(HISTORIA_ZORROS[300])"
   ]
  },
  {
   "cell_type": "code",
   "execution_count": 82,
   "metadata": {
    "slideshow": {
     "slide_type": "fragment"
    }
   },
   "outputs": [
    {
     "data": {
      "text/plain": [
       "Text(0,0.5,'Num. Zorros')"
      ]
     },
     "execution_count": 82,
     "metadata": {},
     "output_type": "execute_result"
    },
    {
     "data": {
      "image/png": "[encoded data removed]",
      "text/plain": [
       "<Figure size 432x288 with 1 Axes>"
      ]
     },
     "metadata": {
      "needs_background": "light"
     },
     "output_type": "display_data"
    }
   ],
   "source": [
    "# Generemos una gráfica de dichos valores x = conejos, y = zorros\n",
    "plt.plot(HISTORIA_CONEJOS, HISTORIA_ZORROS)\n",
    "plt.title('Evolucion de la población de conejos vs zorros')\n",
    "plt.xlabel('Num. Conejos')\n",
    "plt.ylabel('Num. Zorros')"
   ]
  },
  {
   "cell_type": "code",
   "execution_count": 83,
   "metadata": {
    "slideshow": {
     "slide_type": "fragment"
    }
   },
   "outputs": [
    {
     "data": {
      "text/plain": [
       "Text(0,0.5,'Num. Conejos')"
      ]
     },
     "execution_count": 83,
     "metadata": {},
     "output_type": "execute_result"
    },
    {
     "data": {
      "image/png": "[encoded data removed]",
      "text/plain": [
       "<Figure size 432x288 with 1 Axes>"
      ]
     },
     "metadata": {
      "needs_background": "light"
     },
     "output_type": "display_data"
    }
   ],
   "source": [
    "# Generemos una gráfica de la evolución de los conejos\n",
    "plt.plot(HISTORIA_CONEJOS)\n",
    "plt.title('Evolucion de la población de conejos')\n",
    "plt.xlabel('Tiempo')\n",
    "plt.ylabel('Num. Conejos')"
   ]
  }
 ],
 "metadata": {
  "kernelspec": {
   "display_name": "Python 3",
   "language": "python",
   "name": "python3"
  },
  "language_info": {
   "codemirror_mode": {
    "name": "ipython",
    "version": 3
   },
   "file_extension": ".py",
   "mimetype": "text/x-python",
   "name": "python",
   "nbconvert_exporter": "python",
   "pygments_lexer": "ipython3",
   "version": "3.7.0"
  },
  "toc": {
   "base_numbering": 1,
   "nav_menu": {},
   "number_sections": false,
   "sideBar": false,
   "skip_h1_title": false,
   "title_cell": "Table of Contents",
   "title_sidebar": "Contents",
   "toc_cell": false,
   "toc_position": {},
   "toc_section_display": false,
   "toc_window_display": false
  }
 },
 "nbformat": 4,
 "nbformat_minor": 2
}
