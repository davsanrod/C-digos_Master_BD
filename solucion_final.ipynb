{
 "cells": [
  {
   "cell_type": "markdown",
   "metadata": {},
   "source": [
    "# Simulando un apocalipsis zombi"
   ]
  },
  {
   "cell_type": "markdown",
   "metadata": {},
   "source": [
    "El objeto del ejercicio es crear una pequeña simulación paso a paso de la evolución de una epidemia zombi en una población mediante un modelo matemático.\n",
    "\n",
    "En el modelo:\n",
    "\n",
    "   * S es el número de humanos\n",
    "   * Z es el número de zombis\n",
    "   * R es el número de muertos\n",
    "   * P es el ratio de nacimientos humanos\n",
    "   * m es la probabilidad de muerte natural\n",
    "   * B es la probabilidad de contraer el virus zombi\n",
    "   * G es la probabilidad de que un muerto resucite como zombi\n",
    "   * A es la probabilidad de que un zombi sea destruido definitivamente\n",
    "   \n",
    "Las ecuaciones que gobiernan las tasas de incremento de las poblaciones humana, zombi y de muertos son:\n",
    "\n",
    "    dS/dt = P - B*S*Z - m*S\n",
    "    dZ/dt = B*S*Z + G*R - A*S*Z\n",
    "    dR/dt = m*S + A*S*Z - G*R\n"
   ]
  },
  {
   "cell_type": "markdown",
   "metadata": {},
   "source": [
    "## Valores de los parámetros de la simulación"
   ]
  },
  {
   "cell_type": "code",
   "execution_count": 1,
   "metadata": {},
   "outputs": [],
   "source": [
    "# Estos valores se pueden utilizar en las funciones \n",
    "# subsiguientes como si fueran constantes. No es \n",
    "# necesario pasarlos por parámetro.\n",
    "\n",
    "P = 0      # Sistema cerrado sin nacimientos\n",
    "m = 0.0001 # por día\n",
    "B = 0.0095 # por día\n",
    "G = 0.0001 # por día\n",
    "A = 0.0001 # por día\n",
    "\n",
    "#Introducimos la variable del tiempo\n",
    "delta_t = 0.01"
   ]
  },
  {
   "cell_type": "markdown",
   "metadata": {},
   "source": [
    "## Representación de un estado del sistema\n",
    "Decide que estructura de datos vas a usar para representar un estado del sistema compuesto por un número de humanos, zombis y muertos. Escribe en la siguiente celda cual sería la representación de 500 humanos, 0 zombis y 0 muertos y llamalo **estado_inicial**."
   ]
  },
  {
   "cell_type": "code",
   "execution_count": 2,
   "metadata": {},
   "outputs": [],
   "source": [
    "#Establezco un etsado inicial\n",
    "estado_Inicial = [500, 0, 0]"
   ]
  },
  {
   "cell_type": "markdown",
   "metadata": {},
   "source": [
    "## Funciones de crecimiento de poblaciones\n",
    "Codifica una función por cada una de las ecuaciones de incremento de población. Dale a la funciòn un nombre descriptivo y define para ella los argumentos/parámetros de entreda adecuados."
   ]
  },
  {
   "cell_type": "code",
   "execution_count": 3,
   "metadata": {},
   "outputs": [],
   "source": [
    "# Función que dado el estado del sistema nos devuelve \n",
    "# la tasa de crecimiento de los humanos (S) según la ecuación \n",
    "# correspondiente.\n",
    "    #dS/dt = P - B*S*Z - m*S\n",
    "def crecimiento_humanos(humanos, zombies, muertos):\n",
    "    return P - B * humanos * zombies - m * humanos"
   ]
  },
  {
   "cell_type": "code",
   "execution_count": 4,
   "metadata": {},
   "outputs": [],
   "source": [
    "# Función que dado el estado del sistema nos devuelve \n",
    "# la tasa de crecimiento de los zombies (Z) según la ecuación \n",
    "# correspondiente.\n",
    "    #dZ/dt = B*S*Z + G*R - A*S*Z\n",
    "def crecimiento_zombies(humanos, zombies, muertos):\n",
    "    return B * humanos * zombies + G * muertos - A * humanos * zombies"
   ]
  },
  {
   "cell_type": "code",
   "execution_count": 5,
   "metadata": {},
   "outputs": [],
   "source": [
    "# Función que dado el estado del sistema nos devuelve \n",
    "# la tasa de crecimiento de los muertos (R) según la ecuación \n",
    "# correspondiente.\n",
    "    #dR/dt = m*S + A*S*Z - G*R\n",
    "def crecimiento_muertos(humanos, zombies, muertos):\n",
    "    return m * humanos + A * humanos * zombies - G * muertos"
   ]
  },
  {
   "cell_type": "code",
   "execution_count": 6,
   "metadata": {},
   "outputs": [
    {
     "name": "stdout",
     "output_type": "stream",
     "text": [
      "-0.05 0.0 0.05\n"
     ]
    }
   ],
   "source": [
    "#test\n",
    "s1= crecimiento_humanos(500,0,0)\n",
    "z1= crecimiento_zombies(500,0,0)\n",
    "r1= crecimiento_muertos(500,0,0)\n",
    "print(s1, z1, r1)"
   ]
  },
  {
   "cell_type": "markdown",
   "metadata": {},
   "source": [
    "## Función de evolución del sistema\n",
    "Debemos definir una función que dado un estado del sistema tal y como se definió \n",
    "nos devuelva el nuevo estado del sistema tras un tiempo **delta_t**. Para ello será necesario hacer uso de las funciones previamente definidas para las tasas de crecimiento poblacional."
   ]
  },
  {
   "cell_type": "code",
   "execution_count": 7,
   "metadata": {},
   "outputs": [],
   "source": [
    "# Función que dado un estado del sistema nos devuelve\n",
    "# el nuevo estado tras un intervalo de tiempo **delta_t**. \n",
    "# OJO: la salida de la funcion debe ser del mismo tipo que \n",
    "# la entrada y corresponder en forma con estado_inicial.\n",
    "def evolucion(humanos, zombies, muertos):\n",
    "    estado = [humanos, zombies, muertos]\n",
    "    \n",
    "    #Variaciones en el perdiodo delta_t\n",
    "    variacion_humanos = humanos + crecimiento_humanos(humanos, zombies, muertos)*delta_t\n",
    "    variacion_zombies = zombies + crecimiento_zombies(humanos, zombies, muertos)*delta_t\n",
    "    variacion_muertos = muertos + crecimiento_muertos(humanos, zombies, muertos)*delta_t\n",
    "    \n",
    "    #Añadimos los valores\n",
    "    nuevo_estado = []\n",
    "    nuevo_estado.insert(0, variacion_humanos)\n",
    "    nuevo_estado.insert(1, variacion_zombies)\n",
    "    nuevo_estado.insert(2, variacion_muertos)\n",
    "    \n",
    "    \n",
    "    return nuevo_estado"
   ]
  },
  {
   "cell_type": "code",
   "execution_count": 8,
   "metadata": {},
   "outputs": [
    {
     "data": {
      "text/plain": [
       "[499.9995, 0.0, 0.0005]"
      ]
     },
     "execution_count": 8,
     "metadata": {},
     "output_type": "execute_result"
    }
   ],
   "source": [
    "#test\n",
    "evolucion(500,0,0)"
   ]
  },
  {
   "cell_type": "markdown",
   "metadata": {},
   "source": [
    "## Generación de series de datos\n",
    "Con lo que tenemos hasta el momento debemos ser capaces de dado un estado inicial y un número de días generar puntos que representen la evolución del sistema. Para ello vamos a crear dos funciones."
   ]
  },
  {
   "cell_type": "markdown",
   "metadata": {},
   "source": [
    "### Evoluvionar un día\n",
    "Nosotros debemos calcular la evolución del sistema en pequeños pasos de **delta_t** pero solo queremos dibujar los puntos día a día. Para simplificar esto crearemos una función que dado un **delta_t** (fráción de un dia) nos ejecute la simulación el número de veces necesarias para avanzar un día completo.\n",
    "\n",
    "Por ejemplo, si **delta_t** es 0.1 (un décimo de día) será necesario ejecutar la simulación 10 pasos para un día completo.\n",
    "\n",
    "La función recibirá un **estado_población** y un **delta_t** y nos devolverá el nuevo **estado_población**."
   ]
  },
  {
   "cell_type": "code",
   "execution_count": 9,
   "metadata": {},
   "outputs": [],
   "source": [
    "#estado_incial = [500,0,0]\n",
    "#delta_t = 0.01\n",
    "#1dia= 1/delta_t\n",
    "#Mi caso: 1/0.01=100\n",
    "\n",
    "def evolucion_dia(estado, delta_t):\n",
    "    #Genero un contador con el numero de actualizaciones en un dia por delta_t\n",
    "    contador = range (int(1/delta_t))\n",
    "    humanos, zombies, muertos = estado\n",
    "    \n",
    "    #Guardo los valores del estado\n",
    "    nuevos_humanos= humanos\n",
    "    nuevos_zombies= zombies\n",
    "    nuevos_muertos= muertos\n",
    "    \n",
    "    #Bucle para las veces que ocurre la actualizacion de delta_t en un dia\n",
    "    for n in (contador):\n",
    "        \n",
    "        #Funcion evolucion\n",
    "        nuevo_estado = evolucion(nuevos_humanos, nuevos_zombies, nuevos_muertos)\n",
    "        \n",
    "        #Guardo el nuevo valor de cada variable para aplicarle nuevamente la actualizacion\n",
    "        nuevos_humanos = nuevo_estado[0]\n",
    "        nuevos_zombies = nuevo_estado[1]\n",
    "        nuevos_muertos = nuevo_estado[2]\n",
    "\n",
    "    #Nueva poblacion diaria\n",
    "    nuevo_estado_poblacion = []\n",
    "    nuevo_estado_poblacion.append(nuevos_humanos)\n",
    "    nuevo_estado_poblacion.append(nuevos_zombies)\n",
    "    nuevo_estado_poblacion.append(nuevos_muertos)\n",
    "\n",
    "    \n",
    "    return nuevo_estado_poblacion"
   ]
  },
  {
   "cell_type": "code",
   "execution_count": 10,
   "metadata": {},
   "outputs": [
    {
     "data": {
      "text/plain": [
       "[499.9499836885013, 2.1063822663552567e-05, 0.04999524767627673]"
      ]
     },
     "execution_count": 10,
     "metadata": {},
     "output_type": "execute_result"
    }
   ],
   "source": [
    "#test\n",
    "estado_prueba = [500,0,0]\n",
    "evolucion_dia(estado_prueba, delta_t)"
   ]
  },
  {
   "cell_type": "markdown",
   "metadata": {},
   "source": [
    "### Simular\n",
    "La función **simular** parte de un estado inicial de la población y un número de días y ejecuta la simulación en pasos de un día. Cada nuevo estado del sistema es guardado en una lista y dicha lista devuelta como result"
   ]
  },
  {
   "cell_type": "code",
   "execution_count": 11,
   "metadata": {},
   "outputs": [],
   "source": [
    "def simular(estado_actual_dia, numero_dias):\n",
    "    #Datos de la poblacion actual \n",
    "    poblacion_actual = [(estado_actual_dia)]\n",
    "    estado_actual = estado_actual_dia\n",
    "    \n",
    "    #Bucle por dia\n",
    "    for n in range(numero_dias):\n",
    "        #Funcion de las actualizaciones diarias\n",
    "        actualizacion = evolucion_dia(estado_actual, delta_t)\n",
    "        \n",
    "        #Añado cada dia a la lista que quiero devolver\n",
    "        poblacion_actual.append((actualizacion))\n",
    "        \n",
    "        #Le doy el nuevo valor para que el bucle empiece por el nuevo valor\n",
    "        estado_actual = actualizacion\n",
    "    \n",
    "    return poblacion_actual"
   ]
  },
  {
   "cell_type": "code",
   "execution_count": 12,
   "metadata": {},
   "outputs": [
    {
     "data": {
      "text/plain": [
       "[[500, 0, 0],\n",
       " [499.9499836885013, 2.1063822663552567e-05, 0.04999524767627673],\n",
       " [499.89779231685856, 0.0022042841991211488, 0.1000033989421922],\n",
       " [499.6301009581281, 0.21763360153896194, 0.15226544033283182],\n",
       " [478.9635328831667, 20.61766802176533, 0.4187990950679785],\n",
       " [88.758682444174, 406.6833755412277, 4.557942014598184]]"
      ]
     },
     "execution_count": 12,
     "metadata": {},
     "output_type": "execute_result"
    }
   ],
   "source": [
    "#test\n",
    "simular(estado_Inicial, 5)"
   ]
  },
  {
   "cell_type": "markdown",
   "metadata": {},
   "source": [
    "# Ejecución de la simulación \n",
    "Introduce en la celda siguiente el código de llamada a la función **simular** que evoluciona desde el **estado_inicial** durante 30 días. LLama al resultado **treinta_dias**."
   ]
  },
  {
   "cell_type": "code",
   "execution_count": 13,
   "metadata": {},
   "outputs": [],
   "source": [
    "#Nueva funcion para 30 dias de apocalipsis\n",
    "treinta_dias = simular(estado_Inicial, 30)"
   ]
  },
  {
   "cell_type": "markdown",
   "metadata": {},
   "source": [
    "## Gráficas\n",
    "Partiendo de la variable **treinta_dias** dibuja una gráfica que muestre simultáneamente la evolución en el tiempo de humanos, zombis y muertos."
   ]
  },
  {
   "cell_type": "code",
   "execution_count": 25,
   "metadata": {},
   "outputs": [
    {
     "data": {
      "text/plain": [
       "Text(0,0.5,'Evolucion diaria')"
      ]
     },
     "execution_count": 25,
     "metadata": {},
     "output_type": "execute_result"
    },
    {
     "data": {
      "image/png": "[encoded data removed]",
      "text/plain": [
       "<Figure size 432x288 with 1 Axes>"
      ]
     },
     "metadata": {
      "needs_background": "light"
     },
     "output_type": "display_data"
    }
   ],
   "source": [
    "#Importamos pyplot del paquete matplotlib\n",
    "from matplotlib import pyplot as plot\n",
    "\n",
    "#Grafica para la funcion treinta_dias\n",
    "plot.plot(treinta_dias)\n",
    "#Introducir leyendas\n",
    "plot.title('Evolucion del apocalipsis')\n",
    "plot.xlabel('Numeor de individuos')\n",
    "plot.ylabel('Evolucion diaria')"
   ]
  },
  {
   "cell_type": "code",
   "execution_count": 15,
   "metadata": {},
   "outputs": [
    {
     "data": {
      "text/plain": [
       "<matplotlib.legend.Legend at 0x7f6b2c06e5f8>"
      ]
     },
     "execution_count": 15,
     "metadata": {},
     "output_type": "execute_result"
    },
    {
     "data": {
      "image/png": "[encoded data removed]",
      "text/plain": [
       "<Figure size 432x288 with 1 Axes>"
      ]
     },
     "metadata": {
      "needs_background": "light"
     },
     "output_type": "display_data"
    }
   ],
   "source": [
    "HUMANOS = list(map(lambda punto: punto[0], treinta_dias))\n",
    "ZOMBIES = list(map(lambda punto: punto[1], treinta_dias))\n",
    "\n",
    "#Intento de graficas con leyendas\n",
    "#Grafica para la funcion treinta_dias\n",
    "plot.plot(treinta_dias, HUMANOS, label='humanos')\n",
    "plot.plot(treinta_dias, ZOMBIES, label='zombies')\n",
    "\n",
    "#Introducir leyendas\n",
    "plot.title('Evolucion del apocalipsis')\n",
    "plot.legend()"
   ]
  },
  {
   "cell_type": "markdown",
   "metadata": {},
   "source": [
    "Crea otra gráfica (scatter) que relacione el número de humanos con el número de zombies."
   ]
  },
  {
   "cell_type": "code",
   "execution_count": 16,
   "metadata": {},
   "outputs": [
    {
     "data": {
      "text/plain": [
       "Text(0,0.5,'Evolucion diaria')"
      ]
     },
     "execution_count": 16,
     "metadata": {},
     "output_type": "execute_result"
    },
    {
     "data": {
      "image/png": "[encoded data removed]",
      "text/plain": [
       "<Figure size 432x288 with 1 Axes>"
      ]
     },
     "metadata": {
      "needs_background": "light"
     },
     "output_type": "display_data"
    }
   ],
   "source": [
    "#Grafica scatter \n",
    "plot.plot(treinta_dias, 'x')\n",
    "plot.title('Evolucion del apocalipsis')\n",
    "plot.xlabel('Numeor de individuos')\n",
    "plot.ylabel('Evolucion diaria')"
   ]
  },
  {
   "cell_type": "markdown",
   "metadata": {},
   "source": [
    "## Ejecución con otros valores de población inicial\n",
    "Ejecuta de nuevo simular con un estado inicial de 1000 humanos, 10 zombis, 0 muertos. Llama al resultado **con_zombis**"
   ]
  },
  {
   "cell_type": "code",
   "execution_count": 17,
   "metadata": {},
   "outputs": [],
   "source": [
    "#Nuevo simulador\n",
    "nuevo_estado_inicial = [1000, 10, 0]\n",
    "con_zombies = simular(nuevo_estado_inicial, 30)"
   ]
  },
  {
   "cell_type": "markdown",
   "metadata": {},
   "source": [
    "## Vuelve a crear la mismas gráficas para este nuevo caso"
   ]
  },
  {
   "cell_type": "code",
   "execution_count": 18,
   "metadata": {},
   "outputs": [
    {
     "data": {
      "text/plain": [
       "Text(0,0.5,'Evolucion diaria')"
      ]
     },
     "execution_count": 18,
     "metadata": {},
     "output_type": "execute_result"
    },
    {
     "data": {
      "image/png": "[encoded data removed]",
      "text/plain": [
       "<Figure size 432x288 with 1 Axes>"
      ]
     },
     "metadata": {
      "needs_background": "light"
     },
     "output_type": "display_data"
    }
   ],
   "source": [
    "# Evolución temporal de humanos, zombis y muertos\n",
    "plot.plot(con_zombies)\n",
    "plot.title('Evolucion del apocalipsis')\n",
    "plot.xlabel('Numero de individuos')\n",
    "plot.ylabel('Evolucion diaria')"
   ]
  },
  {
   "cell_type": "code",
   "execution_count": 19,
   "metadata": {},
   "outputs": [
    {
     "data": {
      "text/plain": [
       "Text(0,0.5,'Num. Humanos')"
      ]
     },
     "execution_count": 19,
     "metadata": {},
     "output_type": "execute_result"
    },
    {
     "data": {
      "image/png": "[encoded data removed]",
      "text/plain": [
       "<Figure size 432x288 with 1 Axes>"
      ]
     },
     "metadata": {
      "needs_background": "light"
     },
     "output_type": "display_data"
    }
   ],
   "source": [
    "    # Humanos vs Zombis\n",
    "#Genero una variable que guarde los valeros de humanos y otra para zombies\n",
    "HUMANOS = list(map(lambda punto: punto[0], treinta_dias))\n",
    "ZOMBIES = list(map(lambda punto: punto[1], treinta_dias))\n",
    "#Grafica Humanos\n",
    "plot.plot(HUMANOS)\n",
    "plot.title('Evolucion Humanos')\n",
    "plot.xlabel('Tiempo')\n",
    "plot.ylabel('Num. Humanos')"
   ]
  },
  {
   "cell_type": "code",
   "execution_count": 20,
   "metadata": {},
   "outputs": [
    {
     "data": {
      "text/plain": [
       "Text(0,0.5,'Num. Zombies')"
      ]
     },
     "execution_count": 20,
     "metadata": {},
     "output_type": "execute_result"
    },
    {
     "data": {
      "image/png": "[encoded data removed]",
      "text/plain": [
       "<Figure size 432x288 with 1 Axes>"
      ]
     },
     "metadata": {
      "needs_background": "light"
     },
     "output_type": "display_data"
    }
   ],
   "source": [
    "#Grafica Zombies\n",
    "plot.plot(ZOMBIES)\n",
    "plot.title('Evolucion Zombies')\n",
    "plot.xlabel('Tiempo')\n",
    "plot.ylabel('Num. Zombies')"
   ]
  },
  {
   "cell_type": "markdown",
   "metadata": {},
   "source": [
    "## Ejecución con nacimientos\n",
    "Introduce un valor de P que te parezca interesante y prueba a ejecutar la simulación. Llama al resultado **con_nacimientos**"
   ]
  },
  {
   "cell_type": "code",
   "execution_count": 21,
   "metadata": {},
   "outputs": [],
   "source": [
    "#Establezco el parametro comparandorlo con la muerte natural\n",
    "#Establezo que por cada 4 muertes naturales hay un nacimiento teniendo en cuenta que es mas dificil sobreviivir\n",
    "#hasta dar a luz\n",
    "P = 0.000025\n",
    "nuevo_estado_inicial = [1000, 10, 0]\n",
    "con_nacimientos = simular(nuevo_estado_inicial, 30)"
   ]
  },
  {
   "cell_type": "markdown",
   "metadata": {},
   "source": [
    "## Vuelve a crear la mismas gráficas para este nuevo caso"
   ]
  },
  {
   "cell_type": "code",
   "execution_count": 22,
   "metadata": {},
   "outputs": [
    {
     "data": {
      "text/plain": [
       "Text(0,0.5,'Evolucion diaria')"
      ]
     },
     "execution_count": 22,
     "metadata": {},
     "output_type": "execute_result"
    },
    {
     "data": {
      "image/png": "[encoded data removed]",
      "text/plain": [
       "<Figure size 432x288 with 1 Axes>"
      ]
     },
     "metadata": {
      "needs_background": "light"
     },
     "output_type": "display_data"
    }
   ],
   "source": [
    "# Evolución temporal de humanos, zombis y muertos\n",
    "plot.plot(con_nacimientos)\n",
    "plot.title('Evolucion del apocalipsis')\n",
    "plot.xlabel('Numero de individuos')\n",
    "plot.ylabel('Evolucion diaria')"
   ]
  },
  {
   "cell_type": "code",
   "execution_count": 23,
   "metadata": {},
   "outputs": [
    {
     "data": {
      "text/plain": [
       "Text(0,0.5,'Num. HUMANOS')"
      ]
     },
     "execution_count": 23,
     "metadata": {},
     "output_type": "execute_result"
    },
    {
     "data": {
      "image/png": "[encoded data removed]",
      "text/plain": [
       "<Figure size 432x288 with 1 Axes>"
      ]
     },
     "metadata": {
      "needs_background": "light"
     },
     "output_type": "display_data"
    }
   ],
   "source": [
    "# Humanos vs Zombis\n",
    "HUMANOS2 = list(map(lambda punto: punto[0], con_nacimientos))\n",
    "ZOMBIES2 = list(map(lambda punto: punto[1], con_nacimientos))\n",
    "#Grafica Humanos\n",
    "plot.plot(HUMANOS2)\n",
    "plot.title('Evolucion Humanos')\n",
    "plot.xlabel('Tiempo')\n",
    "plot.ylabel('Num. HUMANOS')"
   ]
  },
  {
   "cell_type": "code",
   "execution_count": 24,
   "metadata": {},
   "outputs": [
    {
     "data": {
      "text/plain": [
       "Text(0,0.5,'Num. Zombies')"
      ]
     },
     "execution_count": 24,
     "metadata": {},
     "output_type": "execute_result"
    },
    {
     "data": {
      "image/png": "[encoded data removed]",
      "text/plain": [
       "<Figure size 432x288 with 1 Axes>"
      ]
     },
     "metadata": {
      "needs_background": "light"
     },
     "output_type": "display_data"
    }
   ],
   "source": [
    "#Grafica Zombies\n",
    "plot.plot(ZOMBIES2)\n",
    "plot.title('Evolucion Zombies')\n",
    "plot.xlabel('Tiempo')\n",
    "plot.ylabel('Num. Zombies')"
   ]
  }
 ],
 "metadata": {
  "kernelspec": {
   "display_name": "Python 3",
   "language": "python",
   "name": "python3"
  },
  "language_info": {
   "codemirror_mode": {
    "name": "ipython",
    "version": 3
   },
   "file_extension": ".py",
   "mimetype": "text/x-python",
   "name": "python",
   "nbconvert_exporter": "python",
   "pygments_lexer": "ipython3",
   "version": "3.7.0"
  },
  "toc": {
   "base_numbering": 1,
   "nav_menu": {},
   "number_sections": false,
   "sideBar": false,
   "skip_h1_title": false,
   "title_cell": "Table of Contents",
   "title_sidebar": "Contents",
   "toc_cell": false,
   "toc_position": {},
   "toc_section_display": false,
   "toc_window_display": false
  }
 },
 "nbformat": 4,
 "nbformat_minor": 2
}
